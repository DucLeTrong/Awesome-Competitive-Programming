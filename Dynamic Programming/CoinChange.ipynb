{
  "nbformat": 4,
  "nbformat_minor": 0,
  "metadata": {
    "colab": {
      "name": "asdf.ipynb",
      "provenance": [],
      "collapsed_sections": []
    },
    "kernelspec": {
      "name": "python3",
      "display_name": "Python 3"
    }
  },
  "cells": [
    {
      "cell_type": "code",
      "metadata": {
        "id": "a3hYgaHPUkua"
      },
      "source": [
        "'''\n",
        "  Function to find how many ways to pay V money using C coins [C1,C2,...Cn]\n",
        "  Time complexity = O(C.V)\n",
        "\n",
        "  Parameters:\n",
        "  -----------\n",
        "    V: integer\n",
        "       Value of money to be paid\n",
        "    C: list\n",
        "       All coin types available \n",
        "\n",
        "  Returns:\n",
        "  --------\n",
        "    N_ways: integer\n",
        "            Number of ways to pay V using C coins\n",
        "\n",
        "  Examples:\n",
        "  ---------\n",
        "      With 4 types of coins C = [8,3,1,2], we can make change for V = 3 in\n",
        "      3 ways: {1,1,1}, {1,2} and {3}\n",
        "\n",
        "    >>> C = [8,3,1,2]\n",
        "    >>> V = 3\n",
        "    >>> print(CoinChange(V, C))\n",
        "    3\n",
        "\n",
        "  References: \n",
        "    https://blog.dreamshire.com/project-euler-31-solution/\n",
        "'''\n",
        "\n",
        "def CoinChange(V, C):\n",
        "  memo = [1]+[0]*V\n",
        "  \n",
        "  for coin in C:\n",
        "    for val in range(coin,V+1):\n",
        "      memo[val] += memo[val-coin]\n",
        "  \n",
        "  N_ways = memo[V]\n",
        "  return N_ways"
      ],
      "execution_count": null,
      "outputs": []
    }
  ]
}
