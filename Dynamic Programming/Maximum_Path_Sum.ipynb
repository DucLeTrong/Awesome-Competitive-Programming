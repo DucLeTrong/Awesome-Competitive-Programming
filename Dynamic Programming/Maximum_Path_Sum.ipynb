{
  "nbformat": 4,
  "nbformat_minor": 0,
  "metadata": {
    "colab": {
      "name": "Maximum_Path_Sum_1.ipynb",
      "provenance": [],
      "collapsed_sections": []
    },
    "kernelspec": {
      "name": "python3",
      "display_name": "Python 3"
    }
  },
  "cells": [
    {
      "cell_type": "code",
      "metadata": {
        "id": "a3hYgaHPUkua"
      },
      "source": [
        "from copy import deepcopy\n",
        "\n",
        "def Max_Path_Sum(triangle):\n",
        "  memo = deepcopy(triangle)\n",
        "  \n",
        "  for row in range(len(memo)-1-1,-1,-1):\n",
        "    for col in range(0,len(memo[row])):\n",
        "      memo[row][col] += max(memo[row+1][col],memo[row+1][col+1])\n",
        "  \n",
        "  return memo[0][0] # Top of the triangle is the accumulative sum\n",
        "\n",
        "if __name__ == '__main__':\n",
        "  for _ in range(int(input())):\n",
        "    triangle = []\n",
        "    \n",
        "    for _ in range(int(input())):\n",
        "      triangle.append(list(map(int,input().split())))\n",
        "      \n",
        "    print(Max_Path_Sum(triangle))"
      ],
      "execution_count": null,
      "outputs": []
    }
  ]
}
