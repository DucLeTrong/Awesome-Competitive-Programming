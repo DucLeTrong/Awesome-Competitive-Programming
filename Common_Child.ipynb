{
  "nbformat": 4,
  "nbformat_minor": 0,
  "metadata": {
    "colab": {
      "name": "Common Child.ipynb",
      "provenance": []
    },
    "kernelspec": {
      "name": "python3",
      "display_name": "Python 3"
    }
  },
  "cells": [
    {
      "cell_type": "code",
      "metadata": {
        "id": "UbI2xrdV4fTi"
      },
      "source": [
        "import os\n",
        "\n",
        "def commonChild(s1,s2):\n",
        "  dp = [[0] * (len(s1) + 1) for _ in range(len(s2) + 1)]\n",
        "\n",
        "  for i in range(0,len(s1)):\n",
        "    for j in range(0,len(s2)):\n",
        "      if s1[i] == s2[j]:\n",
        "        dp[i+1][j+1] = dp[i][j] + 1\n",
        "      else:\n",
        "        dp[i+1][j+1] = max(dp[i][j+1],dp[i+1][j])\n",
        "     \n",
        "  return dp[len(s1)][len(s2)]\n",
        "\n",
        "if __name__ == '__main__':\n",
        "  fptr = open(os.environ['OUTPUT_PATH'], 'w')\n",
        "\n",
        "  s1 = input()\n",
        "  s2 = input()\n",
        "\n",
        "  result = commonChild(s1, s2)\n",
        "\n",
        "  fptr.write(str(result) + '\\n')\n",
        "  fptr.close()\n"
      ],
      "execution_count": null,
      "outputs": []
    }
  ]
}