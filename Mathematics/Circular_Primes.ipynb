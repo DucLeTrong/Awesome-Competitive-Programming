{
  "nbformat": 4,
  "nbformat_minor": 0,
  "metadata": {
    "colab": {
      "name": "Circular_Primes.ipynb",
      "provenance": [],
      "collapsed_sections": []
    },
    "kernelspec": {
      "name": "python3",
      "display_name": "Python 3"
    }
  },
  "cells": [
    {
      "cell_type": "code",
      "metadata": {
        "id": "a3hYgaHPUkua"
      },
      "source": [
        "# Function to find all primes < n using \"Sieve Method\"\n",
        "# Time complexity = O(sqrt(n))\n",
        "def Sieve_Method_Primes(n):\n",
        "  sieve = [True] * n\n",
        "  for i in range(3,int(n**0.5)+1,2):\n",
        "    if sieve[i]:\n",
        "      sieve[i*i::2*i]=[False]*((n-i*i-1)//(2*i)+1)\n",
        "  \n",
        "  # Output the list of all primes\n",
        "  return [2] + [i for i in range(3,n,2) if sieve[i]]\n",
        "\n",
        "# Function to determine a prime number \n",
        "# Time complexity = O(sqrt(n))\n",
        "def isPrime(n):\n",
        "  if n == 2 or n == 3: return True\n",
        "  if n%2 == 0 or n < 2: return False\n",
        "  for i in range(3, int(n**0.5)+1, 2): # Only odd numbers\n",
        "    if n%i == 0:\n",
        "      return False    \n",
        "\n",
        "  return True\n",
        "\n",
        "# Main function to find sum of all circular primes\n",
        "# Time complexity = O(sqrt(n))\n",
        "def Circular_Primes(n):\n",
        "  allPrimes = Sieve_Method_Primes(n)\n",
        "  circPrimes = []\n",
        "\n",
        "  for i in allPrimes:\n",
        "    if len(str(i)) == 1:\n",
        "      circPrimes.append(i)\n",
        "      \n",
        "    else:\n",
        "      i_new = i\n",
        "      rotations = {i}\n",
        "      AllRotationsPrime = True\n",
        "\n",
        "      while True:\n",
        "        i_new = int(str(i_new)[1:]+str(i_new)[0])\n",
        "        if len(str(i_new)) != len(str(i)):\n",
        "          AllRotationsPrime = False\n",
        "          break\n",
        "        elif i_new not in rotations:\n",
        "          rotations.add(i_new)\n",
        "        else:\n",
        "          break\n",
        "      \n",
        "      for r in rotations:\n",
        "        if isPrime(r) == False:\n",
        "          AllRotationsPrime = False\n",
        "          break\n",
        "          \n",
        "      if AllRotationsPrime == True:\n",
        "        circPrimes.append(i)\n",
        "        \n",
        "  return sum(circPrimes)\n",
        "\n",
        "if __name__ == '__main__':\n",
        "  n = int(input())\n",
        "  print(Circular_Primes(n))"
      ],
      "execution_count": null,
      "outputs": []
    }
  ]
}