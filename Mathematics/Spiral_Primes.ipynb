{
  "nbformat": 4,
  "nbformat_minor": 0,
  "metadata": {
    "colab": {
      "name": "Spiral_Primes.ipynb",
      "provenance": [],
      "collapsed_sections": []
    },
    "kernelspec": {
      "name": "python3",
      "display_name": "Python 3"
    }
  },
  "cells": [
    {
      "cell_type": "code",
      "metadata": {
        "id": "a3hYgaHPUkua"
      },
      "source": [
        "# Function to check if a number is prime based on Miller-Rabin probabilistic test\n",
        "# Time complexity = O(k.(logn)^3)\n",
        "# Reference: \n",
        "# Theory: https://en.wikipedia.org/wiki/Miller-Rabin_primality_test\n",
        "# Source codes: https://en.wikibooks.org/wiki/Algorithm_Implementation/Mathematics/Primality_Testing\n",
        "\n",
        "import random\n",
        "import math\n",
        "\n",
        "def isPrime_Miller_Rabin(n, k=3):\n",
        "  # Adjust \"k\" to trade-off speed/accuraccy\n",
        "  if n < 6:  # Assuming n >= 0 in all cases... shortcut small cases here\n",
        "    return [False, False, True, True, False, True][n]\n",
        "  elif n & 1 == 0:  # Should be faster than n % 2\n",
        "    return False\n",
        "  else:\n",
        "    s, d = 0, n - 1\n",
        "    while d & 1 == 0:\n",
        "      s, d = s + 1, d >> 1\n",
        "    # Use random.randint(2, n-2) for very large numbers\n",
        "    for a in random.sample(range(2, min(n - 2, math.inf)), min(n - 4, k)):\n",
        "      x = pow(a, d, n)\n",
        "      if x != 1 and x + 1 != n:\n",
        "        for r in range(1, s):\n",
        "          x = pow(x, 2, n)\n",
        "          if x == 1:\n",
        "            return False  # Composite for sure\n",
        "          elif x == n - 1:\n",
        "            a = 0  # So we know loop didn't continue to end\n",
        "            break  # Could be strong liar, try another a\n",
        "        if a:\n",
        "          return False  # Composite if we reached end of this loop\n",
        "    return True  # Probably prime if reached end of outer loop\n",
        "\n",
        "# Main function\n",
        "def Spiral_Primes(n):\n",
        "  p = 0 # Number of primes found in diagonals\n",
        "  for l in range(3,10**7,2):\n",
        "    d = 2*l - 1 # Number of elements in diagonals\n",
        "\n",
        "    # Bottom-right diagonal (l^2) is always composite\n",
        "    #\n",
        "    # Bottom-left diagonal\n",
        "    if isPrime_Miller_Rabin(l**2 - 1*(l-1)) == True: \n",
        "      p += 1\n",
        "    # Top-left diagonal\n",
        "    if isPrime_Miller_Rabin(l**2 - 2*(l-1)) == True: \n",
        "      p += 1\n",
        "    # Top-right diagonal\n",
        "    if isPrime_Miller_Rabin(l**2 - 3*(l-1)) == True: \n",
        "      p += 1\n",
        "    \n",
        "    r = p/d*100 # Ratio of primes\n",
        "    \n",
        "    if r < n:\n",
        "      return l\n",
        "    \n",
        "if __name__ == '__main__':\n",
        "  n = int(input())\n",
        "  print(Spiral_Primes(n))"
      ],
      "execution_count": null,
      "outputs": []
    }
  ]
}