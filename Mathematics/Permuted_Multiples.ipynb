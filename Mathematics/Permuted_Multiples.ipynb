{
  "nbformat": 4,
  "nbformat_minor": 0,
  "metadata": {
    "colab": {
      "name": "Permuted_Multiples.ipynb",
      "provenance": [],
      "collapsed_sections": []
    },
    "kernelspec": {
      "name": "python3",
      "display_name": "Python 3"
    }
  },
  "cells": [
    {
      "cell_type": "code",
      "metadata": {
        "id": "a3hYgaHPUkua"
      },
      "source": [
        "# Function to check if 2 numbers are permutations\n",
        "# Time complexity = O(n)\n",
        "# Reference: https://stackoverflow.com/questions/3219112/checking-whether-two-numbers-are-permutation-of-each-other\n",
        "def arePermutations (num1, num2):\n",
        "  counter = [0]*10\n",
        "\n",
        "  for i in str(num1):\n",
        "    counter[int(i)] += 1\n",
        "  for j in str(num2):\n",
        "    counter[int(j)] -= 1\n",
        "\n",
        "  for c in counter:\n",
        "    if c != 0:\n",
        "      return False\n",
        "  return True\n",
        "\n",
        "# Main function\n",
        "def Permuted_Multiples(n,k):\n",
        "  for i in range(1,n+1):\n",
        "    temp = [i]\n",
        "    AllPermuted = True\n",
        "    \n",
        "    for j in range(2,k+1):\n",
        "      if arePermutations(i,i*j) == True:\n",
        "        temp.append(i*j)\n",
        "      else:\n",
        "        AllPermuted = False\n",
        "        break\n",
        "      \n",
        "    if AllPermuted == True:\n",
        "      print(*temp)\n",
        "\n",
        "if __name__ == '__main__':\n",
        "  n,k = map(int,input().split())\n",
        "  Permuted_Multiples(n,k)"
      ],
      "execution_count": null,
      "outputs": []
    }
  ]
}