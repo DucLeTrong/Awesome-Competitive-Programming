{
  "nbformat": 4,
  "nbformat_minor": 0,
  "metadata": {
    "colab": {
      "name": "Smallest_Multiple.ipynb",
      "provenance": [],
      "collapsed_sections": []
    },
    "kernelspec": {
      "name": "python3",
      "display_name": "Python 3"
    }
  },
  "cells": [
    {
      "cell_type": "code",
      "metadata": {
        "id": "a3hYgaHPUkua"
      },
      "source": [
        "from math import gcd\n",
        "\n",
        "# Function to find Least Common Multiple of multiple integers\n",
        "def LCM(n):\n",
        "  lcm = 1\n",
        "  for i in range(2,n+1):\n",
        "    lcm = lcm*i//gcd(lcm,i)\n",
        "    \n",
        "  return lcm\n",
        "\n",
        "if __name__ == '__main__':\n",
        "  t = int(input())\n",
        "  for _ in range(t):\n",
        "    n = int(input())\n",
        "    print(LCM(n))"
      ],
      "execution_count": null,
      "outputs": []
    }
  ]
}