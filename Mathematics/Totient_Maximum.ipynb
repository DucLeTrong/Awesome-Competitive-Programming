{
  "nbformat": 4,
  "nbformat_minor": 0,
  "metadata": {
    "colab": {
      "name": "Totient_Maximum.ipynb",
      "provenance": [],
      "collapsed_sections": []
    },
    "kernelspec": {
      "name": "python3",
      "display_name": "Python 3"
    }
  },
  "cells": [
    {
      "cell_type": "code",
      "metadata": {
        "id": "a3hYgaHPUkua"
      },
      "source": [
        "# Function to find the number of coprimes less than n based on Euler totient function\n",
        "# Time complexity = O(n.loglogn + logn + k); k is the number of prime factors of n\n",
        "# Reference: https://en.wikipedia.org/wiki/Euler%27s_totient_function#Euler's_product_formula\n",
        "def Euler_totient(n):\n",
        "  # Reference: https://www.geeksforgeeks.org/prime-factorization-using-sieve-olog-n-multiple-queries/\n",
        "\n",
        "  from math import ceil, sqrt\n",
        "  # Function to calculate SPF (Smallest Prime Factor) for every number < MAXN\n",
        "  # Time complexity = O(nloglogn) \n",
        "  def Sieve_SPF(MAXN):\n",
        "    # Stores smallest prime factor for every number\n",
        "    spf = [0]*MAXN\n",
        "    spf[1] = 1\n",
        "    for i in range(2, MAXN):\n",
        "      # Mark smallest prime factor for every number to be itself\n",
        "      spf[i] = i\n",
        "    # Separately marking spf for every even number as 2\n",
        "    for i in range(4, MAXN, 2):\n",
        "      spf[i] = 2\n",
        "    for i in range(3, ceil(sqrt(MAXN))):\n",
        "      # Check if i is prime\n",
        "      if (spf[i] == i):\n",
        "        # Mark SPF for all numbers divisible by i\n",
        "        for j in range(i * i, MAXN, i):\n",
        "          # Mark spf[j] if it is not previously marked\n",
        "          if (spf[j] == j):\n",
        "            spf[j] = i \n",
        "    return spf\n",
        "\n",
        "  # A function returning prime factorization by dividing by SPF at every step\n",
        "  # Time complexity = O(log n)\n",
        "  def PrimeFactorization(x,spf):\n",
        "    primeFactors = set()\n",
        "    while (x != 1):\n",
        "      primeFactors.add(spf[x])\n",
        "      x = x // spf[x]\n",
        "    return primeFactors\n",
        "\n",
        "  # Core function\n",
        "  # Time complexity = O(k), k is the number of prime factors of n\n",
        "  spf = Sieve_SPF(n+1)\n",
        "  primeFactors = PrimeFactorization(n,spf)\n",
        "\n",
        "  phi = n \n",
        "  for p in primeFactors:\n",
        "    phi *= (1-1/p)\n",
        "  return int(phi)"
      ],
      "execution_count": null,
      "outputs": []
    },
    {
      "cell_type": "code",
      "metadata": {
        "id": "PzA_acLHi9zl"
      },
      "source": [
        "# Function to check if two numbers are coprime\r\n",
        "# Time complexity = O(log a.b)\r\n",
        "# Reference: https://stackoverflow.com/questions/39678984/efficiently-check-if-two-numbers-are-co-primes-relatively-primes/39679114#39679114\r\n",
        "def isCoprime(a,b):\r\n",
        "  import math\r\n",
        "  return math.gcd(a,b) == 1"
      ],
      "execution_count": null,
      "outputs": []
    },
    {
      "cell_type": "code",
      "metadata": {
        "id": "T77o6OZki5Bd"
      },
      "source": [
        "# Function to find all primes < n using \"Sieve Method\"\r\n",
        "# Time complexity = O(sqrt(n))\r\n",
        "def Sieve_All_Primes(n):\r\n",
        "  sieve = [True] * n\r\n",
        "  for i in range(3,int(n**0.5)+1,2):\r\n",
        "    if sieve[i]:\r\n",
        "      sieve[i*i::2*i]=[False]*((n-i*i-1)//(2*i)+1)\r\n",
        "  \r\n",
        "  # Output the list of all primes\r\n",
        "  return [2] + [i for i in range(3,n,2) if sieve[i]]\r\n",
        "\r\n",
        "# Main function\r\n",
        "from collections import defaultdict\r\n",
        "\r\n",
        "def Totient_Maximum(N):\r\n",
        "  primes = Sieve_All_Primes(100)\r\n",
        "\r\n",
        "  n = 1\r\n",
        "  for p in primes:\r\n",
        "    if n*p >= N:\r\n",
        "      # print([n,ratio])\r\n",
        "      return n\r\n",
        "    n *= p   \r\n",
        "    \r\n",
        "    ''' \r\n",
        "    # In case you need print ratio out\r\n",
        "    NumOfCoprimes = Euler_totient(n)\r\n",
        "    ratio = n/NumOfCoprimes\r\n",
        "    '''\r\n",
        "    \r\n",
        "if __name__ == '__main__':\r\n",
        "  for _ in range(int(input())):\r\n",
        "    N = int(input())\r\n",
        "    print(Totient_Maximum(N))"
      ],
      "execution_count": null,
      "outputs": []
    }
  ]
}