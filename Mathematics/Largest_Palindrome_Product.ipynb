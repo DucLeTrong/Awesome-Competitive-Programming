{
  "nbformat": 4,
  "nbformat_minor": 0,
  "metadata": {
    "colab": {
      "name": "Largest_Palindrome_Product.ipynb",
      "provenance": [],
      "collapsed_sections": []
    },
    "kernelspec": {
      "name": "python3",
      "display_name": "Python 3"
    }
  },
  "cells": [
    {
      "cell_type": "code",
      "metadata": {
        "id": "a3hYgaHPUkua"
      },
      "source": [
        "# Function to find all factors of an integer\n",
        "# Time complexity = O(sqrt(n))\n",
        "def All_Factors(n):\n",
        "  factors = []\n",
        "\n",
        "  for div in range(1, int(n**0.5) + 1):\n",
        "    if n % div == 0:\n",
        "      factors.append(div)\n",
        "\n",
        "      other = n // div\n",
        "      if other != div:\n",
        "        factors.append(other)\n",
        "\n",
        "  return factors\n",
        "  \n",
        "# Main function\n",
        "def Largest_Palindrome_Product(n):\n",
        "  for halfLeft in range(999,100,-1):\n",
        "    # Create a symmetric half right\n",
        "    halfRight = str(halfLeft)[2] + str(halfLeft)[1] + str(halfLeft)[0]\n",
        "    # Create a palindromic number\n",
        "    number = int(str(halfLeft)+halfRight)\n",
        "    \n",
        "    if number < n:\n",
        "      factors = All_Factors(number)\n",
        "      for i in factors:\n",
        "        # Both factors must be 3-digit numbers\n",
        "        if len(str(i))==3 and len(str(number//i))==3:\n",
        "          return number\n",
        "        \n",
        "if __name__ == '__main__':\n",
        "  t = int(input())\n",
        "  for _ in range(t):\n",
        "    n = int(input())\n",
        "    print(Largest_Palindrome_Product(n))"
      ],
      "execution_count": null,
      "outputs": []
    }
  ]
}
