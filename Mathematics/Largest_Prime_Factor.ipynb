{
  "nbformat": 4,
  "nbformat_minor": 0,
  "metadata": {
    "colab": {
      "name": "Largest_Prime_Factor.ipynb",
      "provenance": [],
      "collapsed_sections": []
    },
    "kernelspec": {
      "name": "python3",
      "display_name": "Python 3"
    }
  },
  "cells": [
    {
      "cell_type": "code",
      "metadata": {
        "id": "a3hYgaHPUkua"
      },
      "source": [
        "# Function to returns all prime factors of a positive integer\n",
        "# Time complexity = O(sqrt(n))\n",
        "def Prime_Factors(n):\n",
        "  factors = []\n",
        "  d = 2\n",
        "\n",
        "  while n > 1:\n",
        "    \n",
        "    while n % d == 0:\n",
        "      if d not in factors:\n",
        "        factors.append(d)\n",
        "      n /= d\n",
        "\n",
        "    d += 1\n",
        "\n",
        "    if d*d > n:\n",
        "      if n > 1: \n",
        "        factors.append(int(n))\n",
        "        break\n",
        "\n",
        "  return factors\n",
        "\n",
        "def LargestPrimeFactor(n):\n",
        "  return max(Prime_Factors(n)) \n",
        "  \n",
        "if __name__ == '__main__':\n",
        "  t = int(input())\n",
        "\n",
        "  for _ in range(t):\n",
        "    n = int(input())\n",
        "    print(LargestPrimeFactor(n))\n",
        "    "
      ],
      "execution_count": null,
      "outputs": []
    }
  ]
}