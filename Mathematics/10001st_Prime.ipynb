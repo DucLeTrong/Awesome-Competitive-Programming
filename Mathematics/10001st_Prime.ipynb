{
  "nbformat": 4,
  "nbformat_minor": 0,
  "metadata": {
    "colab": {
      "name": "10001st _Prime.ipynb",
      "provenance": [],
      "collapsed_sections": []
    },
    "kernelspec": {
      "name": "python3",
      "display_name": "Python 3"
    }
  },
  "cells": [
    {
      "cell_type": "code",
      "metadata": {
        "id": "a3hYgaHPUkua"
      },
      "source": [
        "# Function to find all primes < n using \"Sieve Method\"\n",
        "# Time complexity = O(sqrt(n))\n",
        "def Sieve_Method_Primes(n):\n",
        "  sieve = [True] * n\n",
        "  for i in range(3,int(n**0.5)+1,2):\n",
        "    if sieve[i]:\n",
        "      sieve[i*i::2*i]=[False]*((n-i*i-1)//(2*i)+1)\n",
        "  \n",
        "  # Output the list of all primes\n",
        "  return [2] + [i for i in range(3,n,2) if sieve[i]]\n",
        "  \n",
        "# Main function to find the n-th prime\n",
        "def Nth_Prime(n):\n",
        "  # Limit is determined by experiments to avoid over-time execution\n",
        "  if n > 1000:\n",
        "    limit = 150000\n",
        "  else:\n",
        "    limit = 10000\n",
        "    \n",
        "  primes_list = Sieve_Method_Primes(limit)\n",
        "  \n",
        "  return int(primes_list[n-1])\n",
        "  \n",
        "if __name__ == '__main__':\n",
        "  t = int(input())\n",
        "  for _ in range(t):\n",
        "    n = int(input())\n",
        "    print(Nth_Prime(n))"
      ],
      "execution_count": null,
      "outputs": []
    }
  ]
}
