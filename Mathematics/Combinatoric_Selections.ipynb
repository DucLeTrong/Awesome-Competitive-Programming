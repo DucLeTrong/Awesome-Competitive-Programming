{
  "nbformat": 4,
  "nbformat_minor": 0,
  "metadata": {
    "colab": {
      "name": "Combinatoric_Selections.ipynb",
      "provenance": [],
      "collapsed_sections": []
    },
    "kernelspec": {
      "name": "python3",
      "display_name": "Python 3"
    }
  },
  "cells": [
    {
      "cell_type": "code",
      "metadata": {
        "id": "a3hYgaHPUkua"
      },
      "source": [
        "# Function to create Pascal Triangle, consisting of (n+1)(n+2)/2 elements\n",
        "# Time complexity = O(n^2)\n",
        "# Reference: https://www.hackerrank.com/challenges/ncr-table/editorial\n",
        "'''\n",
        "Example of n = 4:\n",
        "        1           n = 0\n",
        "      1   1         n = 1\n",
        "    1   2   1       n = 2\n",
        "  1   3   3   1     n = 3\n",
        "1   4   6   4   1   n = 4\n",
        "'''\n",
        "def Pascal_Triangle(n):\n",
        "  t = [] # Full triangle\n",
        "\n",
        "  for i in range(0,n+1):\n",
        "    r = [0]*(i+1) # Row i of triangle t\n",
        "    t.append(r)\n",
        "\n",
        "    for j in range(0,len(r)):\n",
        "      if j == 0 or j == i: # nC0 = nCn = 1\n",
        "        t[i][j] = 1\n",
        "      else:\n",
        "        t[i][j] = t[i-1][j-1] + t[i-1][j]\n",
        "\n",
        "  return t\n",
        "\n",
        "# Main function\n",
        "def Combinatoric_Selections(N,K):\n",
        "  t = Pascal_Triangle(N)\n",
        "  \n",
        "  count = 0\n",
        "  for i in range(0,N+1):\n",
        "    for j in range(0,len(t[i])):\n",
        "      if t[i][j] >= K:\n",
        "        count += 1\n",
        "        \n",
        "  return count\n",
        "\n",
        "if __name__ == '__main__':\n",
        "  N,K = map(int,input().split())\n",
        "  print(Combinatoric_Selections(N,K))"
      ],
      "execution_count": null,
      "outputs": []
    }
  ]
}