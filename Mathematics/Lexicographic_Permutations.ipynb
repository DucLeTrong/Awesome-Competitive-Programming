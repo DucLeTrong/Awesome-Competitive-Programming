{
  "nbformat": 4,
  "nbformat_minor": 0,
  "metadata": {
    "colab": {
      "name": "Lexicographic_Permutations.ipynb",
      "provenance": [],
      "collapsed_sections": []
    },
    "kernelspec": {
      "name": "python3",
      "display_name": "Python 3"
    }
  },
  "cells": [
    {
      "cell_type": "code",
      "metadata": {
        "id": "a3hYgaHPUkua"
      },
      "source": [
        "'''\n",
        "_____NAIVE ALGORITHM_____\n",
        "\n",
        "from itertools import permutations \n",
        "\n",
        "def Lexicographic_Permutations(word,n):\n",
        "  perm = list(permutations(word))\n",
        "  \n",
        "  word_perms = []\n",
        "  for i in perm:\n",
        "    word_perms.append(''.join(i))\n",
        "    \n",
        "  word_perms.sort()\n",
        "  \n",
        "  return word_perms[n-1]\n",
        "''' \n",
        "\n",
        "# _____OPTIMIZED ALGORITHM_____\n",
        "\n",
        "from math import factorial as f\n",
        "\n",
        "def Lexicographic_Permutations(word,n):\n",
        "  queue = list(word)\n",
        "  word_perm = ''\n",
        "  i = 1\n",
        "\n",
        "  while queue:\n",
        "    pos = n//f(len(word)-i)\n",
        "    word_perm += queue.pop(pos)\n",
        "    n -= pos*f(len(word)-i)\n",
        "    i += 1\n",
        "  \n",
        "  return word_perm\n",
        "\n",
        "if __name__ == '__main__':\n",
        "  word = 'abcdefghijklm' \n",
        "  \n",
        "  for _ in range(int(input())):\n",
        "    n = int(input())\n",
        "    print(Lexicographic_Permutations(word,n-1))"
      ],
      "execution_count": null,
      "outputs": []
    }
  ]
}